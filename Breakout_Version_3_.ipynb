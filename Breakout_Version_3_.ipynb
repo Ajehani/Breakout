{
  "nbformat": 4,
  "nbformat_minor": 0,
  "metadata": {
    "colab": {
      "provenance": []
    },
    "kernelspec": {
      "name": "python3",
      "display_name": "Python 3"
    },
    "language_info": {
      "name": "python"
    }
  },
  "cells": [
    {
      "cell_type": "code",
      "execution_count": null,
      "metadata": {
        "colab": {
          "base_uri": "https://localhost:8080/"
        },
        "id": "1UQV4fPVPrms",
        "outputId": "db2395e2-b7aa-413b-a54b-2ceb5f6b86bc"
      },
      "outputs": [
        {
          "output_type": "stream",
          "name": "stdout",
          "text": [
            "Looking in indexes: https://pypi.org/simple, https://us-python.pkg.dev/colab-wheels/public/simple/\n",
            "Collecting ale-py\n",
            "  Downloading ale_py-0.8.1-cp39-cp39-manylinux_2_17_x86_64.manylinux2014_x86_64.whl (1.7 MB)\n",
            "\u001b[2K     \u001b[90m━━━━━━━━━━━━━━━━━━━━━━━━━━━━━━━━━━━━━━━━\u001b[0m \u001b[32m1.7/1.7 MB\u001b[0m \u001b[31m31.0 MB/s\u001b[0m eta \u001b[36m0:00:00\u001b[0m\n",
            "\u001b[?25hRequirement already satisfied: importlib-resources in /usr/local/lib/python3.9/dist-packages (from ale-py) (5.12.0)\n",
            "Requirement already satisfied: importlib-metadata>=4.10.0 in /usr/local/lib/python3.9/dist-packages (from ale-py) (6.1.0)\n",
            "Requirement already satisfied: typing-extensions in /usr/local/lib/python3.9/dist-packages (from ale-py) (4.5.0)\n",
            "Requirement already satisfied: numpy in /usr/local/lib/python3.9/dist-packages (from ale-py) (1.22.4)\n",
            "Requirement already satisfied: zipp>=0.5 in /usr/local/lib/python3.9/dist-packages (from importlib-metadata>=4.10.0->ale-py) (3.15.0)\n",
            "Installing collected packages: ale-py\n",
            "Successfully installed ale-py-0.8.1\n",
            "Looking in indexes: https://pypi.org/simple, https://us-python.pkg.dev/colab-wheels/public/simple/\n",
            "Requirement already satisfied: gym[atari] in /usr/local/lib/python3.9/dist-packages (0.25.2)\n",
            "Requirement already satisfied: importlib-metadata>=4.8.0 in /usr/local/lib/python3.9/dist-packages (from gym[atari]) (6.1.0)\n",
            "Requirement already satisfied: gym-notices>=0.0.4 in /usr/local/lib/python3.9/dist-packages (from gym[atari]) (0.0.8)\n",
            "Requirement already satisfied: numpy>=1.18.0 in /usr/local/lib/python3.9/dist-packages (from gym[atari]) (1.22.4)\n",
            "Requirement already satisfied: cloudpickle>=1.2.0 in /usr/local/lib/python3.9/dist-packages (from gym[atari]) (2.2.1)\n",
            "Collecting ale-py~=0.7.5\n",
            "  Downloading ale_py-0.7.5-cp39-cp39-manylinux_2_17_x86_64.manylinux2014_x86_64.whl (1.6 MB)\n",
            "\u001b[2K     \u001b[90m━━━━━━━━━━━━━━━━━━━━━━━━━━━━━━━━━━━━━━━━\u001b[0m \u001b[32m1.6/1.6 MB\u001b[0m \u001b[31m30.7 MB/s\u001b[0m eta \u001b[36m0:00:00\u001b[0m\n",
            "\u001b[?25hRequirement already satisfied: importlib-resources in /usr/local/lib/python3.9/dist-packages (from ale-py~=0.7.5->gym[atari]) (5.12.0)\n",
            "Requirement already satisfied: zipp>=0.5 in /usr/local/lib/python3.9/dist-packages (from importlib-metadata>=4.8.0->gym[atari]) (3.15.0)\n",
            "Installing collected packages: ale-py\n",
            "  Attempting uninstall: ale-py\n",
            "    Found existing installation: ale-py 0.8.1\n",
            "    Uninstalling ale-py-0.8.1:\n",
            "      Successfully uninstalled ale-py-0.8.1\n",
            "Successfully installed ale-py-0.7.5\n",
            "Looking in indexes: https://pypi.org/simple, https://us-python.pkg.dev/colab-wheels/public/simple/\n",
            "Collecting neat-python\n",
            "  Downloading neat_python-0.92-py3-none-any.whl (44 kB)\n",
            "\u001b[2K     \u001b[90m━━━━━━━━━━━━━━━━━━━━━━━━━━━━━━━━━━━━━━━━\u001b[0m \u001b[32m44.2/44.2 KB\u001b[0m \u001b[31m2.0 MB/s\u001b[0m eta \u001b[36m0:00:00\u001b[0m\n",
            "\u001b[?25hInstalling collected packages: neat-python\n",
            "Successfully installed neat-python-0.92\n",
            "Looking in indexes: https://pypi.org/simple, https://us-python.pkg.dev/colab-wheels/public/simple/\n",
            "Collecting autorom[accept-rom-license]\n",
            "  Downloading AutoROM-0.6.0-py3-none-any.whl (9.4 kB)\n",
            "Requirement already satisfied: requests in /usr/local/lib/python3.9/dist-packages (from autorom[accept-rom-license]) (2.27.1)\n",
            "Collecting libtorrent\n",
            "  Downloading libtorrent-2.0.7-cp39-cp39-manylinux_2_12_x86_64.manylinux2010_x86_64.whl (8.6 MB)\n",
            "\u001b[2K     \u001b[90m━━━━━━━━━━━━━━━━━━━━━━━━━━━━━━━━━━━━━━━━\u001b[0m \u001b[32m8.6/8.6 MB\u001b[0m \u001b[31m59.7 MB/s\u001b[0m eta \u001b[36m0:00:00\u001b[0m\n",
            "\u001b[?25hRequirement already satisfied: click in /usr/local/lib/python3.9/dist-packages (from autorom[accept-rom-license]) (8.1.3)\n",
            "Collecting AutoROM.accept-rom-license\n",
            "  Downloading AutoROM.accept-rom-license-0.6.0.tar.gz (434 kB)\n",
            "\u001b[2K     \u001b[90m━━━━━━━━━━━━━━━━━━━━━━━━━━━━━━━━━━━━━━\u001b[0m \u001b[32m434.7/434.7 KB\u001b[0m \u001b[31m40.6 MB/s\u001b[0m eta \u001b[36m0:00:00\u001b[0m\n",
            "\u001b[?25h  Installing build dependencies ... \u001b[?25l\u001b[?25hdone\n",
            "  Getting requirements to build wheel ... \u001b[?25l\u001b[?25hdone\n",
            "  Preparing metadata (pyproject.toml) ... \u001b[?25l\u001b[?25hdone\n",
            "Requirement already satisfied: idna<4,>=2.5 in /usr/local/lib/python3.9/dist-packages (from requests->autorom[accept-rom-license]) (3.4)\n",
            "Requirement already satisfied: certifi>=2017.4.17 in /usr/local/lib/python3.9/dist-packages (from requests->autorom[accept-rom-license]) (2022.12.7)\n",
            "Requirement already satisfied: charset-normalizer~=2.0.0 in /usr/local/lib/python3.9/dist-packages (from requests->autorom[accept-rom-license]) (2.0.12)\n",
            "Requirement already satisfied: urllib3<1.27,>=1.21.1 in /usr/local/lib/python3.9/dist-packages (from requests->autorom[accept-rom-license]) (1.26.15)\n",
            "Building wheels for collected packages: AutoROM.accept-rom-license\n",
            "  Building wheel for AutoROM.accept-rom-license (pyproject.toml) ... \u001b[?25l\u001b[?25hdone\n",
            "  Created wheel for AutoROM.accept-rom-license: filename=AutoROM.accept_rom_license-0.6.0-py3-none-any.whl size=446686 sha256=b6dba31809f5e7f6a541323bc66772bbc65f6b571f3be4aa005d9684d51c8a12\n",
            "  Stored in directory: /root/.cache/pip/wheels/7d/17/c9/c31922a6aaf4ec7ec90eeee5dbc40ffbaafeda64b30a208b72\n",
            "Successfully built AutoROM.accept-rom-license\n",
            "Installing collected packages: libtorrent, AutoROM.accept-rom-license, autorom\n",
            "Successfully installed AutoROM.accept-rom-license-0.6.0 autorom-0.6.0 libtorrent-2.0.7\n",
            "Looking in indexes: https://pypi.org/simple, https://us-python.pkg.dev/colab-wheels/public/simple/\n",
            "Collecting gym[accept-rom-license,atari]==0.21.0\n",
            "  Downloading gym-0.21.0.tar.gz (1.5 MB)\n",
            "\u001b[2K     \u001b[90m━━━━━━━━━━━━━━━━━━━━━━━━━━━━━━━━━━━━━━━━\u001b[0m \u001b[32m1.5/1.5 MB\u001b[0m \u001b[31m20.4 MB/s\u001b[0m eta \u001b[36m0:00:00\u001b[0m\n",
            "\u001b[?25h  \u001b[1;31merror\u001b[0m: \u001b[1msubprocess-exited-with-error\u001b[0m\n",
            "  \n",
            "  \u001b[31m×\u001b[0m \u001b[32mpython setup.py egg_info\u001b[0m did not run successfully.\n",
            "  \u001b[31m│\u001b[0m exit code: \u001b[1;36m1\u001b[0m\n",
            "  \u001b[31m╰─>\u001b[0m See above for output.\n",
            "  \n",
            "  \u001b[1;35mnote\u001b[0m: This error originates from a subprocess, and is likely not a problem with pip.\n",
            "  Preparing metadata (setup.py) ... \u001b[?25l\u001b[?25herror\n",
            "\u001b[1;31merror\u001b[0m: \u001b[1mmetadata-generation-failed\u001b[0m\n",
            "\n",
            "\u001b[31m×\u001b[0m Encountered error while generating package metadata.\n",
            "\u001b[31m╰─>\u001b[0m See above for output.\n",
            "\n",
            "\u001b[1;35mnote\u001b[0m: This is an issue with the package mentioned above, not pip.\n",
            "\u001b[1;36mhint\u001b[0m: See above for details.\n"
          ]
        }
      ],
      "source": [
        "!pip install ale-py\n",
        "!pip install gym[atari]\n",
        "!pip install neat-python\n",
        "!pip install autorom[accept-rom-license]\n",
        "!pip install gym[atari,accept-rom-license]==0.21.0\n",
        "!apt-get install -y xvfb python-opengl > /dev/null 2>&1\n",
        "!pip install gym pyvirtualdisplay > /dev/null 2>&1"
      ]
    },
    {
      "cell_type": "code",
      "source": [
        "import neat\n",
        "import os\n",
        "import numpy as np\n",
        "import gym\n",
        "from pyvirtualdisplay import Display\n",
        "virtual_display = Display(visible=0, size=(1400, 900))\n",
        "virtual_display.start()\n",
        "import matplotlib.pyplot as plt\n",
        "%matplotlib inline\n",
        "from IPython import display\n",
        "import multiprocessing\n",
        "\n",
        "def jrender(env, step=None, info=\"\"):\n",
        "    plt.figure(3)\n",
        "    plt.clf()\n",
        "    plt.imshow(env.render(mode= 'rgb_array'))\n",
        "    if (step!=None):\n",
        "        info=\"step:{}|{}\".format(step,info)\n",
        "    plt.title(\"%s | %s\"%(env.spec.id, info))\n",
        "    plt.axis('off')\n",
        "\n",
        "    display.clear_output(wait=True)\n",
        "    display.display(plt.gcf())\n",
        "    plt.close()\n",
        "    \n",
        "# Define a function to evaluate the fitness of each genome in a generation\n",
        "def eval_genomes(genomes, config):\n",
        "    for genome_id, genome in genomes:\n",
        "        # Create a neural network based on the genome and the given config file\n",
        "        net = neat.nn.FeedForwardNetwork.create(genome, config)\n",
        "        # Evaluate the fitness of the genome based on the NN\n",
        "        genome.fitness = eval_genome(net)\n",
        "\n",
        "# Define a function to evaluate the fitness of a genome based on the NN\n",
        "def eval_genome(net):\n",
        "    #create game environment\n",
        "    env = gym.make('ALE/Breakout-ram-v5')\n",
        "    obs = env.reset()\n",
        "    print(\"Running genome\")\n",
        "    done=False\n",
        "    total_reward=0\n",
        "    while not done:\n",
        "        # get subset of potentially useful ram to minimise training time\n",
        "        obs = (obs[[70,71,72,74,80,94,95,93,101,103,105,92]])\n",
        "        # Convert the observation data into a numpy array of floats\n",
        "        inputs = np.array(obs, dtype=np.float32)\n",
        "        # Activate the NN based on the observation data\n",
        "        outputs = net.activate(inputs)\n",
        "        # Choose an action based on the outputs of the neural network\n",
        "        action = np.argmax(outputs)\n",
        "        # Take the chosen action in the game environment\n",
        "        obs, reward, done, info = env.step(action)\n",
        "\n",
        "        total_reward += reward\n",
        "\n",
        "    # Return the total reward earned by the genome as its fitness score\n",
        "    return total_reward\n",
        "\n",
        "# Set the path to the configuration file for the NEAT algorithm\n",
        "config_path = 'config-feedforward.txt'\n",
        "# Load the configuration file into a NEAT configuration object\n",
        "config = neat.Config(neat.DefaultGenome, neat.DefaultReproduction,\n",
        "                     neat.DefaultSpeciesSet, neat.DefaultStagnation,\n",
        "                     config_path)\n",
        "# Create a population of genomes based on the config object\n",
        "population = neat.Population(config)\n",
        "\n",
        "# Set the number of generations to run\n",
        "num_generations = 3\n",
        "for i in range(num_generations):\n",
        "    print(\"Running generation\", i)\n",
        "    # Run the NEAT algorithm on the population for one generation, using the eval_genomes function to evaluate each genome\n",
        "    population.run(eval_genomes, 1)\n",
        "\n",
        "# Get the best genome from the final population\n",
        "best_genome = population.best_genome\n",
        "# Create a neural network based on the best genome and the given configuration\n",
        "best_net = neat.nn.FeedForwardNetwork.create(best_genome, config)\n"
      ],
      "metadata": {
        "id": "iqpe_ABpPu-R",
        "colab": {
          "base_uri": "https://localhost:8080/"
        },
        "outputId": "6b5b3114-1fa7-47c1-a1e3-56e49da75aed"
      },
      "execution_count": null,
      "outputs": [
        {
          "output_type": "stream",
          "name": "stderr",
          "text": [
            "/usr/local/lib/python3.9/dist-packages/neat/config.py:175: DeprecationWarning: Using default False for 'no_fitness_termination'\n",
            "  warnings.warn(\"Using default {!r} for '{!s}'\".format(p.default, p.name),\n",
            "/usr/local/lib/python3.9/dist-packages/neat/config.py:56: DeprecationWarning: Using default 'false' for 'single_structural_mutation'\n",
            "  warnings.warn(\"Using default {!r} for '{!s}'\".format(self.default, self.name),\n",
            "/usr/local/lib/python3.9/dist-packages/neat/config.py:56: DeprecationWarning: Using default 'default' for 'structural_mutation_surer'\n",
            "  warnings.warn(\"Using default {!r} for '{!s}'\".format(self.default, self.name),\n",
            "/usr/local/lib/python3.9/dist-packages/neat/config.py:56: DeprecationWarning: Using default 'gaussian' for 'bias_init_type'\n",
            "  warnings.warn(\"Using default {!r} for '{!s}'\".format(self.default, self.name),\n",
            "/usr/local/lib/python3.9/dist-packages/neat/config.py:56: DeprecationWarning: Using default 'gaussian' for 'response_init_type'\n",
            "  warnings.warn(\"Using default {!r} for '{!s}'\".format(self.default, self.name),\n",
            "/usr/local/lib/python3.9/dist-packages/neat/config.py:56: DeprecationWarning: Using default 'gaussian' for 'weight_init_type'\n",
            "  warnings.warn(\"Using default {!r} for '{!s}'\".format(self.default, self.name),\n",
            "/usr/local/lib/python3.9/dist-packages/neat/config.py:56: DeprecationWarning: Using default 0.0 for 'enabled_rate_to_true_add'\n",
            "  warnings.warn(\"Using default {!r} for '{!s}'\".format(self.default, self.name),\n",
            "/usr/local/lib/python3.9/dist-packages/neat/config.py:56: DeprecationWarning: Using default 0.0 for 'enabled_rate_to_false_add'\n",
            "  warnings.warn(\"Using default {!r} for '{!s}'\".format(self.default, self.name),\n",
            "/usr/local/lib/python3.9/dist-packages/neat/config.py:56: DeprecationWarning: Using default 2 for 'min_species_size'\n",
            "  warnings.warn(\"Using default {!r} for '{!s}'\".format(self.default, self.name),\n"
          ]
        },
        {
          "output_type": "stream",
          "name": "stdout",
          "text": [
            "Running generation 0\n"
          ]
        },
        {
          "output_type": "stream",
          "name": "stderr",
          "text": [
            "/usr/local/lib/python3.9/dist-packages/gym/core.py:317: DeprecationWarning: \u001b[33mWARN: Initializing wrapper in old step API which returns one bool instead of two. It is recommended to set `new_step_api=True` to use new step API. This will be the default behaviour in future.\u001b[0m\n",
            "  deprecation(\n",
            "/usr/local/lib/python3.9/dist-packages/gym/wrappers/step_api_compatibility.py:39: DeprecationWarning: \u001b[33mWARN: Initializing environment in old step API which returns one bool instead of two. It is recommended to set `new_step_api=True` to use new step API. This will be the default behaviour in future.\u001b[0m\n",
            "  deprecation(\n",
            "/usr/local/lib/python3.9/dist-packages/gym/utils/passive_env_checker.py:227: DeprecationWarning: \u001b[33mWARN: Core environment is written in old step API which returns one bool instead of two. It is recommended to rewrite the environment with new step API. \u001b[0m\n",
            "  logger.deprecation(\n"
          ]
        },
        {
          "output_type": "stream",
          "name": "stdout",
          "text": [
            "Running genome\n",
            "Running genome\n",
            "Running genome\n",
            "Running genome\n",
            "Running genome\n",
            "Running genome\n",
            "Running genome\n",
            "Running genome\n",
            "Running genome\n",
            "Running genome\n",
            "Running generation 1\n",
            "Running genome\n",
            "Running genome\n",
            "Running genome\n",
            "Running genome\n",
            "Running genome\n",
            "Running genome\n",
            "Running genome\n",
            "Running genome\n",
            "Running genome\n",
            "Running genome\n",
            "Running generation 2\n",
            "Running genome\n",
            "Running genome\n",
            "Running genome\n",
            "Running genome\n",
            "Running genome\n",
            "Running genome\n",
            "Running genome\n",
            "Running genome\n",
            "Running genome\n",
            "Running genome\n"
          ]
        }
      ]
    },
    {
      "cell_type": "code",
      "source": [
        "#runs environment like usual with trained NN\n",
        "env = gym.make('ALE/Breakout-ram-v5')\n",
        "obs = env.reset()\n",
        "while True:\n",
        "    env.step\n",
        "    obs = obs[95:105]\n",
        "    inputs = np.array(obs, dtype=np.float32)\n",
        "    outputs = best_net.activate(inputs)\n",
        "    action = np.argmax(outputs)\n",
        "    print(action)\n",
        "    obs, reward, done, info = env.step(action)\n",
        "\n",
        "    if done:\n",
        "        obs = env.reset()\n",
        "    jrender(env)"
      ],
      "metadata": {
        "id": "yAEiRbI0WwQF",
        "colab": {
          "base_uri": "https://localhost:8080/",
          "height": 281
        },
        "outputId": "02fdf095-837a-4133-cfd2-77e705214616"
      },
      "execution_count": null,
      "outputs": [
        {
          "output_type": "display_data",
          "data": {
            "text/plain": [
              "<Figure size 432x288 with 1 Axes>"
            ],
            "image/png": "[encoded data removed]"
          },
          "metadata": {}
        },
        {
          "output_type": "stream",
          "name": "stdout",
          "text": [
            "2\n"
          ]
        }
      ]
    }
  ]
}